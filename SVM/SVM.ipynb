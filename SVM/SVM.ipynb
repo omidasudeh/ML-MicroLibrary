{
 "cells": [
  {
   "cell_type": "markdown",
   "metadata": {},
   "source": [
    "# Imports and data preprocessing"
   ]
  },
  {
   "cell_type": "code",
   "execution_count": 1,
   "metadata": {},
   "outputs": [],
   "source": [
    "import pandas as pd\n",
    "import numpy as np\n",
    "import math\n",
    "import scipy.optimize as opt\n",
    "\n",
    "train_raw = pd.read_csv(\"./bank-note/train.csv\", header=None).values\n",
    "train_cols = train_raw.shape[1]\n",
    "train_rows = train_raw.shape[0]\n",
    "train_x = np.copy(train_raw)\n",
    "train_x[:,train_cols - 1] = 1\n",
    "train_y = train_raw[:, train_cols - 1]\n",
    "train_y[train_y > 0] = 1\n",
    "train_y[train_y == 0] = -1\n",
    "\n",
    "test_raw = pd.read_csv(\"./bank-note/test.csv\", header=None).values\n",
    "test_cols = test_raw.shape[1]\n",
    "test_rows = test_raw.shape[0]\n",
    "test_x = np.copy(test_raw)\n",
    "test_x[:,test_cols - 1] = 1\n",
    "test_y = test_raw[:, test_cols - 1]\n",
    "test_y[test_y > 0] = 1\n",
    "test_y[test_y == 0] = -1"
   ]
  },
  {
   "cell_type": "markdown",
   "metadata": {},
   "source": [
    "# SVM Implementation"
   ]
  },
  {
   "cell_type": "code",
   "execution_count": 2,
   "metadata": {},
   "outputs": [],
   "source": [
    "################### Primal SVM\n",
    "def get_error(x,y,w):\n",
    "    n_rows = x.shape[0]\n",
    "    predictions = np.sign(np.matmul(x, np.reshape(w, (-1,1))))    # predictions = sign(Wt*x)\n",
    "    predictions = np.reshape(predictions,(1,-1))\n",
    "    incorrect_predictions = predictions - y\n",
    "    count_incorrect_predictions = np.count_nonzero(incorrect_predictions)\n",
    "    Error = count_incorrect_predictions/ n_rows\n",
    "    return Error\n",
    "\n",
    "def Primal_SVM(X,Y,learningRate, alpha, T, C, schedule=0):\n",
    "    rows = X.shape[0]\n",
    "    cols = X.shape[1]\n",
    "    w = np.zeros(cols)                              # 1. Initialize w = 0 ∈ ℜn\n",
    "    indices = np.arange(rows)\n",
    "    \n",
    "    for epoch in range(T):                          # 2. For epoch = 1 … T:\n",
    "        np.random.shuffle(indices)                       #1. Shuffle the data\n",
    "        x = X[indices,:]\n",
    "        y = Y[indices]\n",
    "        l = learningRate / (1 + learningRate/alpha * epoch)\n",
    "        if schedule == 1:\n",
    "            l = learningRate / (1 + epoch)\n",
    "        for i in range(rows):                            #2. For each training example (xi, yi) ∈ D:\n",
    "            if np.sum(x[i] * w) * y[i] <= 1:                  #If yi wTxi ≤ 1, w←w−𝛾t.[w0;0]+𝛾t.C.N.yi.xi\n",
    "                w = w - learningRate * w + learningRate * rows * C * y[i] * x[i]\n",
    "    return w                                        # 3. Return w\n",
    "\n",
    "################### Dual SVM\n",
    "def Dual_SVM(x, y, C):\n",
    "    #### minimize the SVM dual objective function and get the a1*, a2*,..., an* \n",
    "    op = opt.minimize(lambda a: 0.5 * np.sum(\\\n",
    "                                             np.matmul(\\\n",
    "                                                       np.multiply(\\\n",
    "                                                                   np.multiply(\\\n",
    "                                                                               np.reshape(a,(-1,1))\\\n",
    "                                                                               ,np.reshape(y, (-1,1))\\\n",
    "                                                                              )\\\n",
    "                                                                   ,x),\\\n",
    "                                                       np.transpose(\\\n",
    "                                                                    np.multiply(\\\n",
    "                                                                                np.multiply(\\\n",
    "                                                                                            np.reshape(a,(-1,1)),\\\n",
    "                                                                                            np.reshape(y, (-1,1))\\\n",
    "                                                                                           )\\\n",
    "                                                                                ,x)\\\n",
    "                                                                   )\\\n",
    "                                                      )\\\n",
    "                                            )- np.sum(a),\n",
    "                       np.zeros(x.shape[0]),\n",
    "                       method='SLSQP',\\\n",
    "                       bounds=[(0, C)] * x.shape[0],\\\n",
    "                       constraints=({'type': 'eq',\\\n",
    "                                     'fun': lambda a: np.matmul(np.reshape(a,(1, -1)),\\\n",
    "                                                                    np.reshape(y,(-1,1)))[0]}),\\\n",
    "                       options={'disp': False})\n",
    "    #### Recover W and b\n",
    "    w = np.sum(np.multiply(np.multiply(np.reshape(op.x,(-1,1)), np.reshape(y, (-1,1))), x), axis=0).tolist()\n",
    "    b = np.mean(y[np.where((op.x > 0) & (op.x < C))] - np.matmul(x[np.where((op.x > 0) & (op.x < C)),:], np.reshape(w, (-1,1))))\n",
    "    return np.reshape(np.array(w + [b]), (5,1))"
   ]
  },
  {
   "cell_type": "markdown",
   "metadata": {},
   "source": [
    "# Main"
   ]
  },
  {
   "cell_type": "markdown",
   "metadata": {},
   "source": [
    "## Primal SVM"
   ]
  },
  {
   "cell_type": "code",
   "execution_count": 3,
   "metadata": {},
   "outputs": [
    {
     "name": "stdout",
     "output_type": "stream",
     "text": [
      "==== schedule = γt = γ0/(1+(γ0/a)*t) ====\n",
      "C: 0.1145475372279496\n",
      "Primal SVM train Error: 0.33142201834862384\n",
      "Primal SVM test Error:  0.328\n",
      "====\n",
      "C: 0.572737686139748\n",
      "Primal SVM train Error: 0.3555045871559633\n",
      "Primal SVM test Error:  0.364\n",
      "====\n",
      "C: 0.8018327605956472\n",
      "Primal SVM train Error: 0.5573394495412844\n",
      "Primal SVM test Error:  0.568\n",
      "====\n"
     ]
    }
   ],
   "source": [
    "print(\"==== schedule = γt = γ0/(1+(γ0/a)*t) ====\")\n",
    "C = 100/873\n",
    "w = Primal_SVM(train_x, train_y, 0.5, 0.1, 100, C)\n",
    "print(\"C:\",C)\n",
    "print('Primal SVM train Error:', get_error(train_x, train_y,w))\n",
    "print('Primal SVM test Error: ', get_error(test_x, test_y,w))\n",
    "print(\"====\")\n",
    "\n",
    "C = 500/873\n",
    "w = Primal_SVM(train_x, train_y, 0.5, 0.1, 100, C)\n",
    "print(\"C:\",C)\n",
    "print('Primal SVM train Error:', get_error(train_x, train_y,w))\n",
    "print('Primal SVM test Error: ', get_error(test_x, test_y,w))\n",
    "print(\"====\")\n",
    "\n",
    "C = 700/873\n",
    "w = Primal_SVM(train_x, train_y, 0.5, 0.1, 100, C)\n",
    "print(\"C:\",C)\n",
    "print('Primal SVM train Error:', get_error(train_x, train_y,w))\n",
    "print('Primal SVM test Error: ', get_error(test_x, test_y,w))\n",
    "print(\"====\")\n"
   ]
  },
  {
   "cell_type": "code",
   "execution_count": 4,
   "metadata": {},
   "outputs": [
    {
     "name": "stdout",
     "output_type": "stream",
     "text": [
      "\n",
      "==== schedule = γt = γ0/(1+t) ====\n",
      "C: 0.1145475372279496\n",
      "Primal SVM train Error: 0.35206422018348627\n",
      "Primal SVM test Error:  0.346\n",
      "====\n",
      "C: 0.572737686139748\n",
      "Primal SVM train Error: 0.1651376146788991\n",
      "Primal SVM test Error:  0.164\n",
      "====\n",
      "C: 0.8018327605956472\n",
      "Primal SVM train Error: 0.14105504587155962\n",
      "Primal SVM test Error:  0.144\n",
      "====\n"
     ]
    }
   ],
   "source": [
    "print(\"\\n==== schedule = γt = γ0/(1+t) ====\")\n",
    "C = 100/873\n",
    "w = Primal_SVM(train_x, train_y, 0.5, 0.1, 100, C,1)\n",
    "print(\"C:\",C)\n",
    "print('Primal SVM train Error:', get_error(train_x, train_y,w))\n",
    "print('Primal SVM test Error: ', get_error(test_x, test_y,w))\n",
    "print(\"====\")\n",
    "\n",
    "C = 500/873\n",
    "w = Primal_SVM(train_x, train_y, 0.5, 0.1, 100, C,1)\n",
    "print(\"C:\",C)\n",
    "print('Primal SVM train Error:', get_error(train_x, train_y,w))\n",
    "print('Primal SVM test Error: ', get_error(test_x, test_y,w))\n",
    "print(\"====\")\n",
    "\n",
    "C = 700/873\n",
    "w = Primal_SVM(train_x, train_y, 0.5, 0.1, 100, C,1)\n",
    "print(\"C:\",C)\n",
    "print('Primal SVM train Error:', get_error(train_x, train_y,w))\n",
    "print('Primal SVM test Error: ', get_error(test_x, test_y,w))\n",
    "print(\"====\")"
   ]
  },
  {
   "cell_type": "markdown",
   "metadata": {},
   "source": [
    "## Dual SVM"
   ]
  },
  {
   "cell_type": "code",
   "execution_count": 6,
   "metadata": {},
   "outputs": [
    {
     "name": "stdout",
     "output_type": "stream",
     "text": [
      "C: 0.1145475372279496\n",
      "Dual SVM train Error: 0.026376146788990827\n",
      "Dual SVM test Error: 0.03\n",
      "====\n",
      "C: 0.572737686139748\n",
      "Dual SVM train Error: 0.03096330275229358\n",
      "Dual SVM test Error: 0.034\n",
      "====\n",
      "C: 0.8018327605956472\n",
      "Dual SVM train Error: 0.033256880733944956\n",
      "Dual SVM test Error: 0.036\n",
      "====\n"
     ]
    }
   ],
   "source": [
    "C = 100/873\n",
    "print(\"C:\",C)\n",
    "trainX = train_x[:,[x for x in range(train_cols - 1)]]\n",
    "testX  = test_x [:,[x for x in range(test_cols  - 1)]]\n",
    "w = Dual_SVM( trainX ,train_y, C)\n",
    "print('Dual SVM train Error:', get_error(train_x, train_y,w))\n",
    "print('Dual SVM test Error:', get_error(test_x, test_y,w))\n",
    "print(\"====\")\n",
    "\n",
    "C = 500/873\n",
    "print(\"C:\",C)\n",
    "w = Dual_SVM( trainX ,train_y, C)\n",
    "print('Dual SVM train Error:', get_error(train_x, train_y,w))\n",
    "print('Dual SVM test Error:', get_error(test_x, test_y,w))\n",
    "print(\"====\")\n",
    "\n",
    "C = 700/873\n",
    "print(\"C:\",C)\n",
    "w = Dual_SVM( trainX ,train_y, C)\n",
    "print('Dual SVM train Error:', get_error(train_x, train_y,w))\n",
    "print('Dual SVM test Error:', get_error(test_x, test_y,w))\n",
    "print(\"====\")"
   ]
  }
 ],
 "metadata": {
  "kernelspec": {
   "display_name": "Python 3",
   "language": "python",
   "name": "python3"
  },
  "language_info": {
   "codemirror_mode": {
    "name": "ipython",
    "version": 3
   },
   "file_extension": ".py",
   "mimetype": "text/x-python",
   "name": "python",
   "nbconvert_exporter": "python",
   "pygments_lexer": "ipython3",
   "version": "3.8.10"
  }
 },
 "nbformat": 4,
 "nbformat_minor": 5
}
