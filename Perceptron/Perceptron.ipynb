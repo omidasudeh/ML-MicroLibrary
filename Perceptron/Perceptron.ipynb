{
 "cells": [
  {
   "cell_type": "markdown",
   "id": "vietnamese-mercury",
   "metadata": {},
   "source": [
    "# Imports and data preprocessing"
   ]
  },
  {
   "cell_type": "code",
   "execution_count": 1,
   "id": "early-nerve",
   "metadata": {},
   "outputs": [],
   "source": [
    "import pandas as pd\n",
    "import numpy as np\n",
    "import math\n",
    "\n",
    "train_raw = pd.read_csv(\"./bank-note/train.csv\", header=None).values\n",
    "train_cols = train_raw.shape[1]\n",
    "train_rows = train_raw.shape[0]\n",
    "train_x = np.copy(train_raw)\n",
    "train_x[:,train_cols - 1] = 1\n",
    "train_y = train_raw[:, train_cols - 1]\n",
    "train_y[train_y > 0] = 1\n",
    "train_y[train_y == 0] = -1\n",
    "\n",
    "test_raw = pd.read_csv(\"./bank-note/test.csv\", header=None).values\n",
    "test_cols = test_raw.shape[1]\n",
    "test_rows = test_raw.shape[0]\n",
    "test_x = np.copy(test_raw)\n",
    "test_x[:,test_cols - 1] = 1\n",
    "test_y = test_raw[:, test_cols - 1]\n",
    "test_y[test_y > 0] = 1\n",
    "test_y[test_y == 0] = -1"
   ]
  },
  {
   "cell_type": "markdown",
   "id": "hearing-child",
   "metadata": {},
   "source": [
    "# Perceptron Implementation"
   ]
  },
  {
   "cell_type": "code",
   "execution_count": 2,
   "id": "spoken-ideal",
   "metadata": {},
   "outputs": [],
   "source": [
    "################### standard perceptron methods\n",
    "def get_error(x,y,w):\n",
    "    n_rows = x.shape[0]\n",
    "    predictions = np.sign(np.matmul(x, np.reshape(w, (-1,1))))    # predictions = sign(Wt*x)\n",
    "    predictions = np.reshape(predictions,(1,-1))\n",
    "    incorrect_predictions = predictions - y\n",
    "    count_incorrect_predictions = np.count_nonzero(incorrect_predictions)\n",
    "    Error = count_incorrect_predictions/ n_rows\n",
    "    return Error\n",
    "\n",
    "def Standard_Perceptron(X,Y,learningRate, T):\n",
    "    rows = X.shape[0]\n",
    "    cols = X.shape[1]\n",
    "    w = np.zeros(cols)                              # 1. Initialize w = 0 ∈ ℜn\n",
    "    indices = np.arange(rows)\n",
    "    \n",
    "    for epoch in range(T):                          # 2. For epoch = 1 … T:\n",
    "        np.random.shuffle(indices)                       #1. Shuffle the data\n",
    "        x = X[indices,:]\n",
    "        y = Y[indices]\n",
    "        for i in range(rows):                            #2. For each training example (xi, yi) ∈ D:\n",
    "            if np.sum(x[i] * w) * y[i] <= 0:                  #If yi wTxi ≤ 0, update w ← w + r yi xi\n",
    "                w = w + learningRate * y[i] * x[i]\n",
    "    return w                                        # 3. Return w\n",
    "\n",
    "################### voted perceptron methods\n",
    "def get_Voted_error(x, y,W,C):\n",
    "    n_rows = x.shape[0]\n",
    "    W = np.transpose(W)\n",
    "    predictions = np.sign(np.matmul(np.sign(np.matmul(x, W)), C))\n",
    "    predictions = np.reshape(predictions,(1,-1))\n",
    "    incorrect_predictions = predictions - y\n",
    "    count_incorrect_predictions = np.count_nonzero(incorrect_predictions)\n",
    "    Error = count_incorrect_predictions/ n_rows\n",
    "    return Error\n",
    "\n",
    "def Voted_Perceptron(X,Y,learningRate, T):\n",
    "    rows = X.shape[0]\n",
    "    cols = X.shape[1]\n",
    "    w = np.zeros(cols)                              # 1. Initialize w = 0 ∈ ℜn\n",
    "    m = np.zeros(cols)                              # 1. Initialize m = 0 ∈ ℜn\n",
    "    indices = np.arange(rows)\n",
    "    C = np.array([])                                # c0,c1,..., ck\n",
    "    W = np.array([])                                # w0,w1,..., wk\n",
    "    c = 0                                           # init c0 = 0\n",
    "    for epoch in range(T):                          # 2. For epoch = 1 … T:\n",
    "        np.random.shuffle(indices)                       #1. Shuffle the data\n",
    "        x = X[indices,:]\n",
    "        y = Y[indices]\n",
    "        for i in range(rows):                            #2. For each training example (xi, yi) ∈ D:\n",
    "            if np.sum(x[i] * w) * y[i] <= 0:                  # If yi wTxi ≤ 0\n",
    "                W = np.append(W, w)                             # save wm\n",
    "                C = np.append(C, c)                             # save cm\n",
    "                w = w + learningRate * y[i] * x[i]              # update wm+1 ← wm + r yi xi\n",
    "                c = 1                                           # cm = 1\n",
    "            else:                                             # else\n",
    "                c += 1                                          # cm = cm+1\n",
    "    W = np.reshape(W, (C.shape[0],-1))\n",
    "    C = np.reshape(C, (-1,1))\n",
    "    return W,C                                        # 3. Return (w1, c1), (w2, c2), …, (wk, Ck)\n",
    "\n",
    "################### average perceptron methods\n",
    "def Avg_Perceptron(X,Y,learningRate, T):\n",
    "    rows = X.shape[0]\n",
    "    cols = X.shape[1]\n",
    "    w = np.zeros(cols)                              # 1. Initialize w = 0 ∈ ℜn\n",
    "    indices = np.arange(rows)\n",
    "    a = np.zeros(cols)\n",
    "    for epoch in range(T):                          # 2. For epoch = 1 … T:\n",
    "        np.random.shuffle(indices)                       #1. Shuffle the data\n",
    "        x = X[indices,:]\n",
    "        y = Y[indices]\n",
    "        for i in range(rows):                            #2. For each training example (xi, yi) ∈ D:\n",
    "            if np.sum(x[i] * w) * y[i] <= 0:                  #If yi wTxi ≤ 0, update w ← w + r yi xi\n",
    "                w = w + learningRate * y[i] * x[i]\n",
    "            a = a + w\n",
    "    return a                                        # 3. Return w"
   ]
  },
  {
   "cell_type": "markdown",
   "id": "nominated-blackberry",
   "metadata": {},
   "source": [
    "# Main"
   ]
  },
  {
   "cell_type": "markdown",
   "id": "first-faculty",
   "metadata": {},
   "source": [
    "## Standard Perceptron"
   ]
  },
  {
   "cell_type": "code",
   "execution_count": 3,
   "id": "difficult-walker",
   "metadata": {},
   "outputs": [
    {
     "name": "stdout",
     "output_type": "stream",
     "text": [
      "[-31.494896  -23.2750689 -19.57994    -2.49841    27.       ]\n",
      "Standard Perceptron Test Error:  0.028\n"
     ]
    }
   ],
   "source": [
    "########### Standard Perceptron ##############\n",
    "w = Standard_Perceptron(train_x, train_y, 0.5, 10)\n",
    "print(w)\n",
    "print('Standard Perceptron Test Error: ', get_error(test_x, test_y,w))"
   ]
  },
  {
   "cell_type": "markdown",
   "id": "constitutional-civilization",
   "metadata": {},
   "source": [
    "## Voted Perceptron"
   ]
  },
  {
   "cell_type": "code",
   "execution_count": 4,
   "id": "numeric-functionality",
   "metadata": {},
   "outputs": [
    {
     "name": "stdout",
     "output_type": "stream",
     "text": [
      "W length: 227\n",
      "W:\n",
      " [[  0.          0.          0.          0.          0.       ]\n",
      " [  0.18019    -2.0579     -1.55715     0.185995   -0.5      ]\n",
      " [ -1.76741    -0.15005    -1.71367    -1.723705    0.       ]\n",
      " ...\n",
      " [-25.203405  -19.527715  -21.114715   -5.2988178  26.       ]\n",
      " [-25.463155  -17.896065  -22.659465   -4.8063678  25.5      ]\n",
      " [-27.311205  -24.735015  -13.869715   -6.1154178  26.       ]]\n",
      "C length: 227\n",
      "C:\n",
      " [  0.   2.   1.   2.   1.   2.   3.   9.   2.   6.  25.   7.  10.  22.\n",
      "   1.   4.   1.   3.   1.  10.   6.  18.  13.  28.   3.  38.   6.  28.\n",
      "  28.  47.  13.  45.  11.   8.   1.   5.   4.  18.   7.   2.  11.  24.\n",
      "   9.  65. 165.  52.  14.   8.  11.  11.  36.   7.   9.  23.   8.  23.\n",
      "   3.   8.   8.   1.   7.  18. 112.   3.  47.  13.  49.  32.  23.  51.\n",
      "   9.  35.   7.  12.  25.  42.  36.   3.   5.   9.  16.  18. 140.  14.\n",
      "  13.  58. 123.   8.   9.  40.  49.  94.  20.  17.   4.  85. 134.  10.\n",
      "   3.   8. 103.  50.   5. 136.  63.  32.  88.  33.  33.  14.   7.   3.\n",
      "  49.  15.  56. 190.  47.  24.  40.   9.  15.  14.  74.  16.   7.  11.\n",
      " 159.  63.   2.  51.  11.   4.   5.   9.   7.   4.  34.  51.   9. 124.\n",
      "   5. 313.  22.  12.   1.  23.  16.  22.  12. 115.   8.  64.   3.  20.\n",
      "  23.  80.  17. 195.  49.  14.  59.  80.  63.  39. 148.  59.  97.   7.\n",
      "   9. 102.   8.  10.  10.  24.   9.  70.   2.  23.  24. 115.  73.  11.\n",
      " 293.  43.   1.  43. 108.  52.   4.  65. 105.   6. 161.  70.   9.  13.\n",
      "  15.   3. 255.  50.   2.  16. 188.   1.  29. 124.   5.  18.  37. 114.\n",
      "  10.  22.  21.  23.  40.   9.  60.  13. 158.  23.  55.  55. 111.  32.\n",
      "  58.  29.  24.]\n",
      "Voted Perceptron Test Error:  0.014\n"
     ]
    }
   ],
   "source": [
    "########### Voted Perceptron ##############\n",
    "W,C = Voted_Perceptron(train_x, train_y, 0.5, 10)\n",
    "np.savetxt(\"2b.csv\", W, delimiter=\",\")\n",
    "print(\"W length:\",len(W))\n",
    "print(\"W:\\n\",W)\n",
    "print(\"C length:\",len(C))\n",
    "print(\"C:\\n\",np.reshape(C, (1,-1))[0])\n",
    "print('Voted Perceptron Test Error: ', get_Voted_error(test_x, test_y,W,C))"
   ]
  },
  {
   "cell_type": "markdown",
   "id": "limited-afghanistan",
   "metadata": {},
   "source": [
    "## Average Perceptron"
   ]
  },
  {
   "cell_type": "code",
   "execution_count": 5,
   "id": "described-determination",
   "metadata": {
    "scrolled": true
   },
   "outputs": [
    {
     "name": "stdout",
     "output_type": "stream",
     "text": [
      "[-180604.297364 -120519.22208  -124178.083065  -30430.585706\n",
      "  168434.5     ]\n",
      "Average Perceptron Test Error:  0.012\n"
     ]
    }
   ],
   "source": [
    "########### Average Perceptron ##############\n",
    "w = Avg_Perceptron(train_x, train_y, 0.5, 10)\n",
    "print(w)\n",
    "print('Average Perceptron Test Error: ', get_error(test_x, test_y,w))"
   ]
  }
 ],
 "metadata": {
  "kernelspec": {
   "display_name": "Python 3",
   "language": "python",
   "name": "python3"
  },
  "language_info": {
   "codemirror_mode": {
    "name": "ipython",
    "version": 3
   },
   "file_extension": ".py",
   "mimetype": "text/x-python",
   "name": "python",
   "nbconvert_exporter": "python",
   "pygments_lexer": "ipython3",
   "version": "3.9.6"
  }
 },
 "nbformat": 4,
 "nbformat_minor": 5
}
