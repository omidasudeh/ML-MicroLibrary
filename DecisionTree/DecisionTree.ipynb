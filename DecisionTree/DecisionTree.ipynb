{
 "cells": [
  {
   "cell_type": "markdown",
   "metadata": {},
   "source": [
    "# Imports:"
   ]
  },
  {
   "cell_type": "code",
   "execution_count": 13,
   "metadata": {},
   "outputs": [],
   "source": [
    "import pandas as pd\n",
    "import numpy as np"
   ]
  },
  {
   "cell_type": "markdown",
   "metadata": {},
   "source": [
    "# Read the input traning and test data"
   ]
  },
  {
   "cell_type": "code",
   "execution_count": 14,
   "metadata": {},
   "outputs": [],
   "source": [
    "test_df = pd.read_csv(\"./car/test.csv\", header=None)\n",
    "train_df = pd.read_csv(\"./car/train.csv\", header=None)"
   ]
  },
  {
   "cell_type": "code",
   "execution_count": 119,
   "metadata": {},
   "outputs": [
    {
     "name": "stdout",
     "output_type": "stream",
     "text": [
      "train summary:\n",
      "            0     1     2     3     4     5      6\n",
      "count    1000  1000  1000  1000  1000  1000   1000\n",
      "unique      4     4     4     3     3     3      4\n",
      "top     vhigh  high     4     4   big   med  unacc\n",
      "freq      259   255   253   337   341   344    698\n",
      "===============\n",
      "test summary:\n",
      "          0      1      2     3    4     5      6\n",
      "count   728    728    728   728  728   728    728\n",
      "unique    4      4      4     3    3     3      4\n",
      "top     low  vhigh  5more  more  med  high  unacc\n",
      "freq    190    188    190   248  247   249    512\n"
     ]
    }
   ],
   "source": [
    "print(\"train summary:\")\n",
    "print(train_df.describe())\n",
    "print(\"===============\")\n",
    "print(\"test summary:\")\n",
    "print(test_df.describe())"
   ]
  },
  {
   "cell_type": "markdown",
   "metadata": {},
   "source": [
    "# Helper functions:"
   ]
  },
  {
   "cell_type": "code",
   "execution_count": 120,
   "metadata": {},
   "outputs": [],
   "source": [
    "# calculates the majority error\n",
    "def majority_error():\n",
    "    print(\"majority_error\")\n",
    "\n",
    "# calculates the information gain\n",
    "def entropy(S, Attribute_col_index, Label_col_index):\n",
    "    print(\"entropy\")\n",
    "    \n",
    "    \n",
    "    \n",
    "# calculates the gini index\n",
    "def gini():\n",
    "    print(\"gini\")\n",
    "\n",
    "# returns the column index of the best splitter attribute\n",
    "def Best_spliter_attribute(S, Attributes, splitter_algorithm):\n",
    "    print(\"splitter algorithm:\"  + splitter_algorithm)\n",
    "    best_gain = 0\n",
    "    best_attribute\n",
    "    for v in Attributes:\n",
    "        gain_v = 0\n",
    "        if splitter_algorithm == \"EN\":\n",
    "            gain_v = entropy()\n",
    "        elif splitter_algorithm == \"ME\":\n",
    "            gain_v = majority_error()\n",
    "        elif splitter_algorithm == \"GI\":\n",
    "            gain_v = gini()\n",
    "        else:\n",
    "            assert False, \"Unknown splitter_algorithm:\" + splitter_algorithm + \"!!!\"\n",
    "        if gain_v > best_gain:\n",
    "            best_gain = gain_v\n",
    "            best_attribute = v\n",
    "    return best_attribute\n",
    "\n",
    "# def possible_values():\n",
    "#     values = {\"buying\":[\"vhigh\", \"high\", \"med\", \"low\"],\"maint\": [ \"vhigh\", \"high\", \"med\", \"low\"], \"doors\":[\"2\", \"3\", \"4\", \"5more\"], \"persons\":[\"2\", \"4\", \"more\"], \"lug_boot\":[\"small\", \"med\", \"big\"], \"safety\":[\"low\", \"med\", \"high\"]}\n",
    "\n",
    "atrib_value = {\"0\":\"buying\", \"1\":\"maint\",\"2\":\"doors\",\"3\":\"persons\",\"4\":\"lug_boot\",\"5\":\"safety\",\"6\":\"label\"}\n",
    "         \n"
   ]
  },
  {
   "cell_type": "markdown",
   "metadata": {},
   "source": [
    "# ID3 implementation:"
   ]
  },
  {
   "cell_type": "code",
   "execution_count": 115,
   "metadata": {},
   "outputs": [],
   "source": [
    "# Input:\n",
    "# S: the set of Examples\n",
    "# Label_col_index: column index of the target attribute (the prediction)\n",
    "# Attributes: the set of measured attributes\n",
    "def ID3(S, Attributes, Label_col_index, max_tree_level, splitter_algorithm):\n",
    "    print(Attributes)\n",
    "    if S[Label_col_index].nunique() == 1:                                      # if all examples have same label: \n",
    "        print(\"Leaf Node: \" + S.loc[0,Label_col_index])                        #    Return a leaf node with the label \n",
    "    elif len(Attributes) == 0:                                                 # if Attributes empty\n",
    "        print(\"Leaf Node: \" + S[Label_col_index].mode()[0])                    #    Return a leaf node with the most common label \n",
    "    else:\n",
    "                                                                               # 1. Create a Root node for tree\n",
    "        A = Best_spliter_attribute(S, Attributes, splitter_algorithm)          # 2. A = attribute in Attributes that best splits S\n",
    "        for v in S[A].unique():\n",
    "            S_v = S.loc[S[A] == v]\n",
    "            if len(S_v) == 0:\n",
    "                print(\"Leaf Node: \" + S[Label_col_index].mode()[0])\n",
    "            else:\n",
    "                print(\"recursive call\")\n",
    "                Attributes.remove(A)\n",
    "                ID3(S_v, Attributes,Label_col_index, max_tree_level,splitter_algorithm)\n",
    "\n",
    "        print(\"Root Node: \" + atrib_value[A])"
   ]
  },
  {
   "cell_type": "markdown",
   "metadata": {},
   "source": [
    "# main:"
   ]
  },
  {
   "cell_type": "code",
   "execution_count": 116,
   "metadata": {},
   "outputs": [
    {
     "name": "stdout",
     "output_type": "stream",
     "text": [
      "[0, 1, 2, 3, 4, 5]\n",
      "splitter algorithm:ME\n",
      "recursive call\n",
      "[1, 2, 3, 4, 5]\n",
      "splitter algorithm:ME\n",
      "recursive call\n"
     ]
    },
    {
     "ename": "ValueError",
     "evalue": "list.remove(x): x not in list",
     "output_type": "error",
     "traceback": [
      "\u001b[0;31m---------------------------------------------------------------------------\u001b[0m",
      "\u001b[0;31mValueError\u001b[0m                                Traceback (most recent call last)",
      "\u001b[0;32m<ipython-input-116-350b7cb96b70>\u001b[0m in \u001b[0;36m<module>\u001b[0;34m\u001b[0m\n\u001b[1;32m      1\u001b[0m \u001b[0mAttributes\u001b[0m \u001b[0;34m=\u001b[0m \u001b[0;34m[\u001b[0m\u001b[0;36m0\u001b[0m\u001b[0;34m,\u001b[0m\u001b[0;36m1\u001b[0m\u001b[0;34m,\u001b[0m\u001b[0;36m2\u001b[0m\u001b[0;34m,\u001b[0m\u001b[0;36m3\u001b[0m\u001b[0;34m,\u001b[0m\u001b[0;36m4\u001b[0m\u001b[0;34m,\u001b[0m\u001b[0;36m5\u001b[0m\u001b[0;34m]\u001b[0m \u001b[0;31m# initially put all attributes except the label in Attributes set\u001b[0m\u001b[0;34m\u001b[0m\u001b[0;34m\u001b[0m\u001b[0m\n\u001b[0;32m----> 2\u001b[0;31m \u001b[0mID3\u001b[0m\u001b[0;34m(\u001b[0m\u001b[0mtest_df\u001b[0m\u001b[0;34m,\u001b[0m \u001b[0mAttributes\u001b[0m\u001b[0;34m,\u001b[0m\u001b[0;36m6\u001b[0m\u001b[0;34m,\u001b[0m \u001b[0;36m10\u001b[0m\u001b[0;34m,\u001b[0m \u001b[0;34m\"ME\"\u001b[0m\u001b[0;34m)\u001b[0m\u001b[0;34m\u001b[0m\u001b[0;34m\u001b[0m\u001b[0m\n\u001b[0m",
      "\u001b[0;32m<ipython-input-115-265a2c3613f3>\u001b[0m in \u001b[0;36mID3\u001b[0;34m(S, Attributes, Label_col_index, max_tree_level, splitter_algorithm)\u001b[0m\n\u001b[1;32m     19\u001b[0m                 \u001b[0mprint\u001b[0m\u001b[0;34m(\u001b[0m\u001b[0;34m\"recursive call\"\u001b[0m\u001b[0;34m)\u001b[0m\u001b[0;34m\u001b[0m\u001b[0;34m\u001b[0m\u001b[0m\n\u001b[1;32m     20\u001b[0m                 \u001b[0mAttributes\u001b[0m\u001b[0;34m.\u001b[0m\u001b[0mremove\u001b[0m\u001b[0;34m(\u001b[0m\u001b[0mA\u001b[0m\u001b[0;34m)\u001b[0m\u001b[0;34m\u001b[0m\u001b[0;34m\u001b[0m\u001b[0m\n\u001b[0;32m---> 21\u001b[0;31m                 \u001b[0mID3\u001b[0m\u001b[0;34m(\u001b[0m\u001b[0mS_v\u001b[0m\u001b[0;34m,\u001b[0m \u001b[0mAttributes\u001b[0m\u001b[0;34m,\u001b[0m\u001b[0mLabel_col_index\u001b[0m\u001b[0;34m,\u001b[0m \u001b[0mmax_tree_level\u001b[0m\u001b[0;34m,\u001b[0m\u001b[0msplitter_algorithm\u001b[0m\u001b[0;34m)\u001b[0m\u001b[0;34m\u001b[0m\u001b[0;34m\u001b[0m\u001b[0m\n\u001b[0m\u001b[1;32m     22\u001b[0m \u001b[0;34m\u001b[0m\u001b[0m\n\u001b[1;32m     23\u001b[0m         \u001b[0mprint\u001b[0m\u001b[0;34m(\u001b[0m\u001b[0;34m\"Root Node: \"\u001b[0m \u001b[0;34m+\u001b[0m \u001b[0matrib_value\u001b[0m\u001b[0;34m[\u001b[0m\u001b[0mA\u001b[0m\u001b[0;34m]\u001b[0m\u001b[0;34m)\u001b[0m\u001b[0;34m\u001b[0m\u001b[0;34m\u001b[0m\u001b[0m\n",
      "\u001b[0;32m<ipython-input-115-265a2c3613f3>\u001b[0m in \u001b[0;36mID3\u001b[0;34m(S, Attributes, Label_col_index, max_tree_level, splitter_algorithm)\u001b[0m\n\u001b[1;32m     18\u001b[0m             \u001b[0;32melse\u001b[0m\u001b[0;34m:\u001b[0m\u001b[0;34m\u001b[0m\u001b[0;34m\u001b[0m\u001b[0m\n\u001b[1;32m     19\u001b[0m                 \u001b[0mprint\u001b[0m\u001b[0;34m(\u001b[0m\u001b[0;34m\"recursive call\"\u001b[0m\u001b[0;34m)\u001b[0m\u001b[0;34m\u001b[0m\u001b[0;34m\u001b[0m\u001b[0m\n\u001b[0;32m---> 20\u001b[0;31m                 \u001b[0mAttributes\u001b[0m\u001b[0;34m.\u001b[0m\u001b[0mremove\u001b[0m\u001b[0;34m(\u001b[0m\u001b[0mA\u001b[0m\u001b[0;34m)\u001b[0m\u001b[0;34m\u001b[0m\u001b[0;34m\u001b[0m\u001b[0m\n\u001b[0m\u001b[1;32m     21\u001b[0m                 \u001b[0mID3\u001b[0m\u001b[0;34m(\u001b[0m\u001b[0mS_v\u001b[0m\u001b[0;34m,\u001b[0m \u001b[0mAttributes\u001b[0m\u001b[0;34m,\u001b[0m\u001b[0mLabel_col_index\u001b[0m\u001b[0;34m,\u001b[0m \u001b[0mmax_tree_level\u001b[0m\u001b[0;34m,\u001b[0m\u001b[0msplitter_algorithm\u001b[0m\u001b[0;34m)\u001b[0m\u001b[0;34m\u001b[0m\u001b[0;34m\u001b[0m\u001b[0m\n\u001b[1;32m     22\u001b[0m \u001b[0;34m\u001b[0m\u001b[0m\n",
      "\u001b[0;31mValueError\u001b[0m: list.remove(x): x not in list"
     ]
    }
   ],
   "source": [
    "Attributes = [0,1,2,3,4,5] # initially put all attributes except the label in Attributes set\n",
    "ID3(test_df, Attributes,6, 10, \"ME\")"
   ]
  },
  {
   "cell_type": "code",
   "execution_count": null,
   "metadata": {},
   "outputs": [],
   "source": []
  }
 ],
 "metadata": {
  "kernelspec": {
   "display_name": "Python 3",
   "language": "python",
   "name": "python3"
  },
  "language_info": {
   "codemirror_mode": {
    "name": "ipython",
    "version": 3
   },
   "file_extension": ".py",
   "mimetype": "text/x-python",
   "name": "python",
   "nbconvert_exporter": "python",
   "pygments_lexer": "ipython3",
   "version": "3.8.10"
  }
 },
 "nbformat": 4,
 "nbformat_minor": 4
}
