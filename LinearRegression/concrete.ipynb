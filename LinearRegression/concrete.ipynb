{
 "cells": [
  {
   "cell_type": "markdown",
   "id": "dental-renewal",
   "metadata": {},
   "source": [
    "# Read the input Data"
   ]
  },
  {
   "cell_type": "code",
   "execution_count": 158,
   "id": "silent-vampire",
   "metadata": {},
   "outputs": [],
   "source": [
    "import pandas as pd\n",
    "import numpy as np\n",
    "import math\n",
    "import copy as cp\n",
    "import sys\n",
    "import pickle\n",
    "train_raw = pd.read_csv(\"./concrete/train.csv\", header=None).values\n",
    "cols = train_raw.shape[1]\n",
    "rows = train_raw.shape[0]\n",
    "train_x = np.copy(train_raw)\n",
    "train_x[:,cols - 1] = 1\n",
    "train_y = train_raw[:, cols - 1]\n",
    "\n",
    "test_raw = pd.read_csv(\"./concrete/test.csv\", header=None).values\n",
    "cols = test_raw.shape[1]\n",
    "rows = test_raw.shape[0]\n",
    "test_x = np.copy(test_raw)\n",
    "test_x[:,cols - 1] = 1\n",
    "test_y = test_raw[:, cols - 1]"
   ]
  },
  {
   "cell_type": "code",
   "execution_count": 159,
   "id": "rental-convenience",
   "metadata": {},
   "outputs": [
    {
     "name": "stdout",
     "output_type": "stream",
     "text": [
      "(53, 1)\n"
     ]
    }
   ],
   "source": [
    "print(np.reshape(train_y, (-1,1)).shape)"
   ]
  },
  {
   "cell_type": "markdown",
   "id": "oriented-norfolk",
   "metadata": {},
   "source": [
    "# Batched LMS Implementation"
   ]
  },
  {
   "cell_type": "code",
   "execution_count": 198,
   "id": "medium-confusion",
   "metadata": {},
   "outputs": [],
   "source": [
    "def Gradien_Decent(x,y):\n",
    "    m = x.shape[0]\n",
    "    n = x.shape[1]\n",
    "    Error = 1\n",
    "    threshold = 10e-6\n",
    "    Max_iter = 10000\n",
    "    LearningRate = 0.01\n",
    "    w = np.zeros([n,1])\n",
    "    Costs = []\n",
    "    iter = 0\n",
    "    while Error > threshold and iter < Max_iter:\n",
    "        iter = iter + 1\n",
    "        diff = np.matmul(x, w) - np.reshape(y, (-1,1))      \n",
    "        gradient = np.sum(x * (diff), axis = 0)\n",
    "        w1 = w - LearningRate*np.reshape(gradient,(-1,1))\n",
    "        Error = np.sum(np.abs(w - w1))\n",
    "        w = w1\n",
    "        cost = 0.5 * np.sum(np.square(diff))\n",
    "        Costs.append(cost)\n",
    "    print(\"converged after \", iter, \"iterations.\")\n",
    "    return w, Costs"
   ]
  },
  {
   "cell_type": "code",
   "execution_count": 207,
   "id": "fifth-syracuse",
   "metadata": {
    "scrolled": true
   },
   "outputs": [
    {
     "name": "stdout",
     "output_type": "stream",
     "text": [
      "converged after  5859 iterations.\n",
      "W vector:\n",
      "[[ 0.89919933]\n",
      " [ 0.78488638]\n",
      " [ 0.84952298]\n",
      " [ 1.29780387]\n",
      " [ 0.12966251]\n",
      " [ 1.57041505]\n",
      " [ 0.99730037]\n",
      " [-0.01522461]]\n"
     ]
    }
   ],
   "source": [
    "w, Costs = Gradien_Decent(train_x, train_y)\n",
    "print(\"W vector:\")\n",
    "print(w)\n",
    "from numpy import savetxt\n",
    "savetxt('Costs.csv', Costs, delimiter='\\n')"
   ]
  },
  {
   "cell_type": "code",
   "execution_count": null,
   "id": "final-homework",
   "metadata": {},
   "outputs": [],
   "source": []
  }
 ],
 "metadata": {
  "kernelspec": {
   "display_name": "Python 3",
   "language": "python",
   "name": "python3"
  },
  "language_info": {
   "codemirror_mode": {
    "name": "ipython",
    "version": 3
   },
   "file_extension": ".py",
   "mimetype": "text/x-python",
   "name": "python",
   "nbconvert_exporter": "python",
   "pygments_lexer": "ipython3",
   "version": "3.9.6"
  }
 },
 "nbformat": 4,
 "nbformat_minor": 5
}
